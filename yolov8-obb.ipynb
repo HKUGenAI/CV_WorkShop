{
 "cells": [
  {
   "attachments": {},
   "cell_type": "markdown",
   "metadata": {},
   "source": [
    "# Package Installation and import 📥\n",
    "Here, we will install and import necessary packages for our code. \n",
    "These contain extra functions that we will need to make our program work"
   ]
  },
  {
   "cell_type": "code",
   "execution_count": null,
   "metadata": {},
   "outputs": [],
   "source": [
    "import os\n",
    "HOME = os.getcwd() # Get the current working directory\n",
    "import ultralytics\n",
    "from ultralytics import YOLO # Import YOLO class. This class is used to create a YOLOv8 model\n",
    "from IPython.display import display, Image\n",
    "from roboflow import Roboflow\n",
    "import torch\n",
    "from tqdm import tqdm"
   ]
  },
  {
   "cell_type": "code",
   "execution_count": null,
   "metadata": {},
   "outputs": [],
   "source": [
    "HOME"
   ]
  },
  {
   "attachments": {},
   "cell_type": "markdown",
   "metadata": {},
   "source": [
    "_______________________________________________________________________________________________"
   ]
  },
  {
   "attachments": {},
   "cell_type": "markdown",
   "metadata": {},
   "source": [
    "# Loading the dataset 🌐\n",
    "We will first create the place where we will store the dataset.\n",
    "Then, we will import a pre-existing dataset from the web using *Roboflow*. You can later try to use a different dataset by going onto https://universe.roboflow.com/ and finding another dataset. Then, change the **datasetname** variable. Ensure that the dataset you select is labeled using the Oriented Bounding Box (OBB) format. Datasets not in OBB format will not work correctly with OBB-specific YOLO models like yolov8n-obb"
   ]
  },
  {
   "cell_type": "code",
   "execution_count": null,
   "metadata": {},
   "outputs": [],
   "source": [
    "#create the directory for the datasets:\n",
    "datasets_dir = os.path.join(HOME, \"datasets_obb\")\n",
    "os.makedirs(datasets_dir, exist_ok=True)\n",
    "os.chdir(datasets_dir)\n",
    "\n",
    "# Download the dataset from Roboflow\n",
    "datasetname = \"yolo-obb-training-3\"\n",
    "rf = Roboflow(api_key=\"f5pOg5frjQ3XAImBbLxX\")\n",
    "project = rf.workspace(\"ryan-1ox6k\").project(\"yolo-obb-training\")\n",
    "dataset = project.version(3).download(\"yolov8-obb\")"
   ]
  },
  {
   "attachments": {},
   "cell_type": "markdown",
   "metadata": {},
   "source": [
    "# The Dataset 🌐\n",
    "Get acquainted with your dataset. Let us try looking at one element from it:"
   ]
  },
  {
   "cell_type": "code",
   "execution_count": null,
   "metadata": {},
   "outputs": [],
   "source": [
    "#get the first element from the dataset (code on computer)\n",
    "sample = f\"{HOME}/datasets_obb/{datasetname}/test/images/2T7OkT9RmTY_jpg.rf.7f68fbcbf3cd762eeefb2c42526c7807.jpg\"\n",
    "\n",
    "#get the full address of elements in the dataset\n",
    "datasets_dir = os.path.join(HOME, \"datasets_obb\")\n",
    "images = [os.path.join(datasets_dir, datasetname, \"train\", \"images\", image) for image in os.listdir(os.path.join(datasets_dir, datasetname, \"train\", \"images\"))]\n",
    "labels = [os.path.join(datasets_dir, datasetname, \"train\", \"labels\", label) for label in os.listdir(os.path.join(datasets_dir, datasetname, \"train\", \"labels\"))]\n",
    "#display five random pictures alongside their labels\n",
    "\n",
    "for i in range(len(images)):\n",
    "    display(Image(filename=images[i]))\n",
    "    print(labels[i])"
   ]
  },
  {
   "attachments": {},
   "cell_type": "markdown",
   "metadata": {},
   "source": [
    "_______________________________________________________________________________________________"
   ]
  },
  {
   "attachments": {},
   "cell_type": "markdown",
   "metadata": {},
   "source": [
    "# Training the model 👨‍🏫\n",
    "We will now simply feed the dataset to YOLO so that it learns how to recognise elements from it. "
   ]
  },
  {
   "cell_type": "code",
   "execution_count": null,
   "metadata": {},
   "outputs": [],
   "source": [
    "%cd {HOME}\n",
    "output = f\"{HOME}/runs/detect\"\n",
    "data_path = os.path.join(datasets_dir, datasetname, \"data.yaml\")\n",
    "model = YOLO(\"yolov8n-obb.yaml\")\n",
    "results = model.train(data= data_path, epochs= 300, imgsz=640, plots=True, project= output)  # Set custom project directory"
   ]
  },
  {
   "attachments": {},
   "cell_type": "markdown",
   "metadata": {},
   "source": [
    "_______________________________________________________________________________________________"
   ]
  },
  {
   "attachments": {},
   "cell_type": "markdown",
   "metadata": {},
   "source": [
    "# Model Evaluation 📊\n",
    "When we are analysing how well YOLO is at predicting the contents of an image, there are several metrics we can use.\n",
    "The most important ones are the **training loss** and the **validation loss**. The lower these values are, the better your algorithm is at predicting data. "
   ]
  },
  {
   "cell_type": "code",
   "execution_count": null,
   "metadata": {},
   "outputs": [],
   "source": [
    "%cd {HOME}\n",
    "Image(filename=f'{HOME}/runs/detect/train/results.png', width=600)"
   ]
  },
  {
   "attachments": {},
   "cell_type": "markdown",
   "metadata": {},
   "source": [
    "# Furthermore, here is the F-1 Curve 📈\n",
    "The F-1 curve tells us the overall performance of our model. It is particularly insightful because it **accounts for underrepresented classes**.\n",
    "Imagine you have a thousand pictures of dogs and five of cats. You might have high accuracy if you always output dogs, but your F1 score will reflect this issue. "
   ]
  },
  {
   "cell_type": "code",
   "execution_count": null,
   "metadata": {},
   "outputs": [],
   "source": [
    "Image(filename=f'{HOME}/runs/detect/train/F1_curve.png', width=600)"
   ]
  },
  {
   "attachments": {},
   "cell_type": "markdown",
   "metadata": {},
   "source": [
    "_______________________________________________________________________________________________"
   ]
  },
  {
   "attachments": {},
   "cell_type": "markdown",
   "metadata": {},
   "source": [
    "## Testing the model ✍️\n",
    "Previously, the model only saw pictures in the **train** folder. Now, we will show it the pictures in the **test** folder, pictures the model has never seen before. Based on how good the model's performance is with the test images, we can have an idea of what the model's performance with data in the real world will be."
   ]
  },
  {
   "attachments": {},
   "cell_type": "markdown",
   "metadata": {},
   "source": [
    "## Here is the image we want to test 😽"
   ]
  },
  {
   "cell_type": "code",
   "execution_count": null,
   "metadata": {},
   "outputs": [],
   "source": [
    "test1 =  f\"{HOME}/datasets_obb/yolo-obb-training-3/test/images/photo_8_2025-05-16_16-54-24_jpg.rf.6a5e18134f5bd36b0cee933661939370.jpg\"\n",
    "Image(test1)"
   ]
  },
  {
   "attachments": {},
   "cell_type": "markdown",
   "metadata": {},
   "source": [
    "## Test our model 📝"
   ]
  },
  {
   "cell_type": "code",
   "execution_count": null,
   "metadata": {},
   "outputs": [],
   "source": [
    "# Load a model\n",
    "%cd {HOME}\n",
    "model_path=f\"{HOME}/runs/detect/train/weights/best.pt\"\n",
    "\n",
    "ourmodel = YOLO(model_path)\n",
    "\n",
    "# Run batched inference on a list of images\n",
    "results_2 = ourmodel(test1)  # list of 1 Results object\n",
    "\n",
    "# Process results list\n",
    "for result in results_2:\n",
    "    result.show()  # display to screen\n",
    "\n",
    "    # Print the Oriented Bounding Boxes (OBB) coordinates\n",
    "    obbs = result.obb  # contains all obb\n",
    "    for i, obb in enumerate(obbs):\n",
    "        xywhr = obb.xywhr.cpu().numpy()[0]  # [x_center, y_center, width, height, rotation]\n",
    "        print(f\"OBB {i+1}: {xywhr}\")\n",
    "   "
   ]
  }
 ],
 "metadata": {
  "kernelspec": {
   "display_name": "detectionworkshop",
   "language": "python",
   "name": "python3"
  },
  "language_info": {
   "codemirror_mode": {
    "name": "ipython",
    "version": 3
   },
   "file_extension": ".py",
   "mimetype": "text/x-python",
   "name": "python",
   "nbconvert_exporter": "python",
   "pygments_lexer": "ipython3",
   "version": "3.12.9"
  }
 },
 "nbformat": 4,
 "nbformat_minor": 2
}
