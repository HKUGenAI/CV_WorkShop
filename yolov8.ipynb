{
 "cells": [
  {
   "attachments": {},
   "cell_type": "markdown",
   "metadata": {},
   "source": [
    "# Package Installation and import 📥\n",
    "Here, we will install and import necessary packages for our code. \n",
    "These contain extra functions that we will need to make our program work"
   ]
  },
  {
   "cell_type": "code",
   "execution_count": null,
   "metadata": {},
   "outputs": [],
   "source": [
    "import os\n",
    "HOME = os.getcwd() # Get the current working directory\n",
    "import ultralytics\n",
    "from ultralytics import YOLO # Import YOLO class. This class is used to create a YOLOv8 model\n",
    "from IPython.display import display, Image\n",
    "from roboflow import Roboflow\n",
    "import torch\n",
    "from tqdm import tqdm"
   ]
  },
  {
   "attachments": {},
   "cell_type": "markdown",
   "metadata": {},
   "source": [
    "_______________________________________________________________________________________________"
   ]
  },
  {
   "attachments": {},
   "cell_type": "markdown",
   "metadata": {},
   "source": [
    "# Loading the dataset 🌐\n",
    "We will first create the place where we will store the dataset.\n",
    "Then, we will import a pre-existing dataset from the web using *Roboflow*. You can later try to use a different dataset by going onto https://universe.roboflow.com/ and finding another dataset. Then, change the **datasetname** variable\n"
   ]
  },
  {
   "cell_type": "code",
   "execution_count": null,
   "metadata": {},
   "outputs": [],
   "source": [
    "#create the directory for the datasets:\n",
    "datasets_dir = os.path.join(HOME, \"datasets_yolo\")\n",
    "os.makedirs(datasets_dir, exist_ok=True)\n",
    "os.chdir(datasets_dir)\n",
    "\n",
    "# Download the dataset from Roboflow\n",
    "datasetname = \"dog_cat-test\"\n",
    "rf = Roboflow(api_key=\"f5pOg5frjQ3XAImBbLxX\")\n",
    "project = rf.workspace(\"ravensburgweingarten\").project(datasetname)\n",
    "dataset = project.version(1).download(\"yolov8\")"
   ]
  },
  {
   "attachments": {},
   "cell_type": "markdown",
   "metadata": {},
   "source": [
    "## Fix data.yaml Don't forget to save!!! 🛠️\n",
    "We need to manually fix this file because the dataset is intended to be used in a different environment."
   ]
  },
  {
   "attachments": {},
   "cell_type": "markdown",
   "metadata": {},
   "source": [
    "1. in datasets_yolo/Dog_Cat-Test-1 <br>\n",
    "2. go to data.yaml <br>\n",
    "3. change 2 parameter as follow: <br>\n",
    "     train: train/images <br>\n",
    "     val: valid/images <br>"
   ]
  },
  {
   "attachments": {},
   "cell_type": "markdown",
   "metadata": {},
   "source": [
    "# The Dataset 🌐\n",
    "Get acquainted with your dataset. Let us try looking at one element from it:"
   ]
  },
  {
   "cell_type": "code",
   "execution_count": null,
   "metadata": {},
   "outputs": [],
   "source": [
    "#get the first element from the dataset (code on computer)\n",
    "sample = f\"{HOME}/datasets_yolo/{datasetname}/test/images/2T7OkT9RmTY_jpg.rf.7f68fbcbf3cd762eeefb2c42526c7807.jpg\"\n",
    "#get the full address of elements in the dataset\n",
    "datasetname = \"Dog_Cat-Test-1\"\n",
    "images = [os.path.join(datasets_dir, datasetname, \"test\", \"images\", image) for image in os.listdir(os.path.join(datasets_dir, datasetname, \"test\", \"images\"))]\n",
    "labels = [os.path.join(datasets_dir, datasetname, \"test\", \"labels\", label) for label in os.listdir(os.path.join(datasets_dir, datasetname, \"test\", \"labels\"))]\n",
    "#display five random pictures alongside their labels\n",
    "for i in range(5):\n",
    "    display(Image(filename=images[i]))\n",
    "    print(labels[i])\n"
   ]
  },
  {
   "attachments": {},
   "cell_type": "markdown",
   "metadata": {},
   "source": [
    "_______________________________________________________________________________________________"
   ]
  },
  {
   "attachments": {},
   "cell_type": "markdown",
   "metadata": {},
   "source": [
    "# Training the model 👨‍🏫\n",
    "We will now simply feed the dataset to YOLO so that it learns how to recognise elements from it. "
   ]
  },
  {
   "cell_type": "code",
   "execution_count": null,
   "metadata": {},
   "outputs": [],
   "source": [
    "%cd {HOME}\n",
    "\n",
    "data_path= f\"{dataset.location}/data.yaml\"\n",
    "model = YOLO(\"yolov8n.yaml\")\n",
    "results = model.train(data= data_path, epochs=5, imgsz=160, plots=True)"
   ]
  },
  {
   "attachments": {},
   "cell_type": "markdown",
   "metadata": {},
   "source": [
    "_______________________________________________________________________________________________"
   ]
  },
  {
   "attachments": {},
   "cell_type": "markdown",
   "metadata": {},
   "source": [
    "# Model Evaluation 📊\n",
    "When we are analysing how well YOLO is at predicting the contents of an image, there are several metrics we can use.\n",
    "The most important ones are the **training loss** and the **validation loss**. The lower these values are, the better your algorithm is at predicting data. "
   ]
  },
  {
   "cell_type": "code",
   "execution_count": null,
   "metadata": {},
   "outputs": [],
   "source": [
    "%cd {HOME}\n",
    "Image(filename=f'{HOME}/runs/detect/train/results.png', width=600)"
   ]
  },
  {
   "attachments": {},
   "cell_type": "markdown",
   "metadata": {},
   "source": [
    "# Furthermore, here is the F-1 Curve 📈\n",
    "The F-1 curve tells us the overall performance of our model. It is particularly insightful because it **accounts for underrepresented classes**.\n",
    "Imagine you have a thousand pictures of dogs and five of cats. You might have high accuracy if you always output dogs, but your F1 score will reflect this issue. "
   ]
  },
  {
   "cell_type": "code",
   "execution_count": null,
   "metadata": {},
   "outputs": [],
   "source": [
    "Image(filename=f'{HOME}/runs/detect/train/F1_curve.png', width=600)"
   ]
  },
  {
   "attachments": {},
   "cell_type": "markdown",
   "metadata": {},
   "source": [
    "_______________________________________________________________________________________________"
   ]
  },
  {
   "attachments": {},
   "cell_type": "markdown",
   "metadata": {},
   "source": [
    "## Testing the model ✍️\n",
    "Previously, the model only saw pictures in the **train** folder. Now, we will show it the pictures in the **test** folder, pictures the model has never seen before. Based on how good the model's performance is with the test images, we can have an idea of what the model's performance with data in the real world will be."
   ]
  },
  {
   "attachments": {},
   "cell_type": "markdown",
   "metadata": {},
   "source": [
    "## Here is the image we want to test 😽"
   ]
  },
  {
   "cell_type": "code",
   "execution_count": null,
   "metadata": {},
   "outputs": [],
   "source": [
    "test1 =  f\"{HOME}/datasets_yolo/Dog_Cat-Test-1/test/images/0262-jo9XwI6B8Rs_jpg.rf.7fb55bdcd52d24ffd635e25d8aa7e4ea.jpg\"\n",
    "Image(test1)"
   ]
  },
  {
   "attachments": {},
   "cell_type": "markdown",
   "metadata": {},
   "source": [
    "## Test pretrain model 📝\n",
    "this is the model provided by Yolo (already train by the company)"
   ]
  },
  {
   "cell_type": "code",
   "execution_count": null,
   "metadata": {},
   "outputs": [],
   "source": [
    "# Load a pretrained YOLOv8n model\n",
    "%cd {HOME}\n",
    "pretrainmodel = YOLO('yolov8n.pt')\n",
    "\n",
    "# Run inference on an image\n",
    "results_1 = pretrainmodel(test1)  # list of 1 Results object\n",
    "for result in results_1:\n",
    "    result.show()  # display to screen"
   ]
  },
  {
   "attachments": {},
   "cell_type": "markdown",
   "metadata": {},
   "source": [
    "## Test our model 📝"
   ]
  },
  {
   "cell_type": "code",
   "execution_count": null,
   "metadata": {},
   "outputs": [],
   "source": [
    "# Load a model\n",
    "%cd {HOME}\n",
    "model_path=f\"{HOME}/runs/detect/train/weights/best.pt\"\n",
    "\n",
    "ourmodel = YOLO(model_path)  # pretrained YOLOv8n model\n",
    "\n",
    "# Run batched inference on a list of images\n",
    "results_2 = ourmodel(test1)  # list of 1 Results object\n",
    "\n",
    "# Process results list\n",
    "for result in results_2:\n",
    "    result.show()  # display to screen\n",
    "   "
   ]
  },
  {
   "attachments": {},
   "cell_type": "markdown",
   "metadata": {},
   "source": [
    "## Can yolo detect everything? let's find out 🕵🏾"
   ]
  },
  {
   "attachments": {},
   "cell_type": "markdown",
   "metadata": {},
   "source": [
    "Here we want to detect spanner"
   ]
  },
  {
   "cell_type": "code",
   "execution_count": null,
   "metadata": {},
   "outputs": [],
   "source": [
    "testimage = f\"{HOME}/datasets_GD/hardware.jpg\"\n",
    "Image(testimage)"
   ]
  },
  {
   "attachments": {},
   "cell_type": "markdown",
   "metadata": {},
   "source": [
    "Can it detect??"
   ]
  },
  {
   "cell_type": "code",
   "execution_count": null,
   "metadata": {},
   "outputs": [],
   "source": [
    "results_3 = pretrainmodel(testimage)  # list of 1 Results object\n",
    "for result in results_3:\n",
    "    result.show()  # display to screen"
   ]
  },
  {
   "attachments": {},
   "cell_type": "markdown",
   "metadata": {},
   "source": [
    "## YOLO cannot detect Spanner, WHY!!!! 😲"
   ]
  },
  {
   "attachments": {},
   "cell_type": "markdown",
   "metadata": {},
   "source": [
    "## Yolo is called 'Closed Set Object Detection', which has limitation on detection.<br>"
   ]
  },
  {
   "attachments": {},
   "cell_type": "markdown",
   "metadata": {},
   "source": [
    "This is all the objects that YOLO can detect <br>"
   ]
  },
  {
   "cell_type": "code",
   "execution_count": null,
   "metadata": {},
   "outputs": [],
   "source": [
    "pretrainmodel.names"
   ]
  },
  {
   "attachments": {},
   "cell_type": "markdown",
   "metadata": {},
   "source": [
    "## So, how can we detect spanner??!! 🤔\n",
    "\n",
    "## Let's find out in this workshop"
   ]
  }
 ],
 "metadata": {
  "kernelspec": {
   "display_name": "Python 3 (ipykernel)",
   "language": "python",
   "name": "python3"
  },
  "language_info": {
   "codemirror_mode": {
    "name": "ipython",
    "version": 3
   },
   "file_extension": ".py",
   "mimetype": "text/x-python",
   "name": "python",
   "nbconvert_exporter": "python",
   "pygments_lexer": "ipython3",
   "version": "3.12.1"
  }
 },
 "nbformat": 4,
 "nbformat_minor": 2
}
